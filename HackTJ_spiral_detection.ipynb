{
  "nbformat": 4,
  "nbformat_minor": 0,
  "metadata": {
    "colab": {
      "name": "HackTJ_spiral_detection",
      "provenance": [],
      "collapsed_sections": []
    },
    "kernelspec": {
      "name": "python3",
      "display_name": "Python 3"
    },
    "language_info": {
      "name": "python"
    },
    "accelerator": "GPU"
  },
  "cells": [
    {
      "cell_type": "code",
      "source": [
        "import numpy as np\n",
        "import cv2\n",
        "from tensorflow.keras.layers import Input, Conv2D, BatchNormalization, Dropout, Flatten, Dense, MaxPool2D\n",
        "from tensorflow.keras.models import Model, Sequential\n",
        "from tensorflow.keras.initializers import glorot_uniform\n",
        "from tensorflow.keras.optimizers import Adam, SGD\n",
        "import matplotlib.pyplot as plt\n",
        "from sklearn.metrics import classification_report\n",
        "from tensorflow.keras.preprocessing.image import ImageDataGenerator\n",
        "from sklearn.model_selection import train_test_split\n",
        "from tensorflow.keras.utils import to_categorical\n",
        "from sklearn.preprocessing import LabelEncoder\n",
        "from sklearn.metrics import classification_report, confusion_matrix\n",
        "import seaborn as sns\n",
        "from tensorflow.keras.regularizers import l2\n",
        "import tensorflow as tf\n",
        "import pandas as pd"
      ],
      "metadata": {
        "id": "DybwXtMGeWER"
      },
      "execution_count": 1,
      "outputs": []
    },
    {
      "cell_type": "code",
      "source": [
        "from google.colab import drive\n",
        "drive.mount('/content/drive')"
      ],
      "metadata": {
        "colab": {
          "base_uri": "https://localhost:8080/"
        },
        "id": "g8y5VWG4ehl7",
        "outputId": "2ce18d35-aeb2-412b-b108-02e65f0c2002"
      },
      "execution_count": 2,
      "outputs": [
        {
          "output_type": "stream",
          "name": "stdout",
          "text": [
            "Mounted at /content/drive\n"
          ]
        }
      ]
    },
    {
      "cell_type": "code",
      "source": [
        "!wget https://cainvas-static.s3.amazonaws.com/media/user_data/Yuvnish17/Parkinson_disease_detection.zip\n",
        "!unzip -qo Parkinson_disease_detection.zip\n"
      ],
      "metadata": {
        "colab": {
          "base_uri": "https://localhost:8080/"
        },
        "id": "TBY5r1sMeqIi",
        "outputId": "3f38d9c0-50be-453b-d73a-d15f26b462f7"
      },
      "execution_count": 3,
      "outputs": [
        {
          "output_type": "stream",
          "name": "stdout",
          "text": [
            "--2022-04-16 20:39:53--  https://cainvas-static.s3.amazonaws.com/media/user_data/Yuvnish17/Parkinson_disease_detection.zip\n",
            "Resolving cainvas-static.s3.amazonaws.com (cainvas-static.s3.amazonaws.com)... 52.219.156.63\n",
            "Connecting to cainvas-static.s3.amazonaws.com (cainvas-static.s3.amazonaws.com)|52.219.156.63|:443... connected.\n",
            "HTTP request sent, awaiting response... 200 OK\n",
            "Length: 8201907 (7.8M) [application/x-zip-compressed]\n",
            "Saving to: ‘Parkinson_disease_detection.zip’\n",
            "\n",
            "Parkinson_disease_d 100%[===================>]   7.82M  15.3MB/s    in 0.5s    \n",
            "\n",
            "2022-04-16 20:39:54 (15.3 MB/s) - ‘Parkinson_disease_detection.zip’ saved [8201907/8201907]\n",
            "\n"
          ]
        }
      ]
    },
    {
      "cell_type": "code",
      "source": [
        "data_train = np.load('Parkinson_disease_detection/train_set.npz', allow_pickle=True)\n",
        "x_train = data_train['arr_0']\n",
        "y_train = data_train['arr_1']\n",
        "\n",
        "print(x_train.shape)\n",
        "print(y_train.shape)"
      ],
      "metadata": {
        "colab": {
          "base_uri": "https://localhost:8080/"
        },
        "id": "UKAH0ULQn0QJ",
        "outputId": "4d57e7a1-9288-4a31-fd60-697a2adb88b2"
      },
      "execution_count": 4,
      "outputs": [
        {
          "output_type": "stream",
          "name": "stdout",
          "text": [
            "(72, 256, 256, 3)\n",
            "(72,)\n"
          ]
        }
      ]
    },
    {
      "cell_type": "code",
      "source": [
        "data_test = np.load('Parkinson_disease_detection/test_set.npz', allow_pickle=True)\n",
        "x_test = data_test['arr_0']\n",
        "y_test = data_test['arr_1']\n",
        "\n",
        "print(x_test.shape)\n",
        "print(y_test.shape)"
      ],
      "metadata": {
        "colab": {
          "base_uri": "https://localhost:8080/"
        },
        "id": "u5Mfc8aXn42q",
        "outputId": "88381289-bbd4-4fc9-ac6f-b280bbb6a8f4"
      },
      "execution_count": 5,
      "outputs": [
        {
          "output_type": "stream",
          "name": "stdout",
          "text": [
            "(30, 256, 256, 3)\n",
            "(30,)\n"
          ]
        }
      ]
    },
    {
      "cell_type": "code",
      "execution_count": 6,
      "metadata": {
        "colab": {
          "base_uri": "https://localhost:8080/"
        },
        "id": "uM8-KRiCaRbw",
        "outputId": "9d2cecc8-2cda-425e-f4fb-52ca14bdb520"
      },
      "outputs": [
        {
          "output_type": "stream",
          "name": "stdout",
          "text": [
            "5040\n",
            "5040\n",
            "5112\n",
            "5112\n",
            "600\n",
            "600\n",
            "630\n",
            "630\n"
          ]
        }
      ],
      "source": [
        "train_data_generator = ImageDataGenerator(rotation_range=360, \n",
        "                                    width_shift_range=0.0, \n",
        "                                    height_shift_range=0.0, \n",
        "#                                     brightness_range=[0.5, 1.5],\n",
        "                                    horizontal_flip=True, \n",
        "                                    vertical_flip=True)\n",
        "\n",
        "x = list(x_train)\n",
        "y = list(y_train)\n",
        "\n",
        "x_aug_train = []\n",
        "y_aug_train = []\n",
        "\n",
        "for (i, v) in enumerate(y):\n",
        "    x_img = x[i]\n",
        "    x_img = np.array(x_img)\n",
        "    x_img = np.expand_dims(x_img, axis=0)\n",
        "    aug_iter = train_data_generator.flow(x_img, batch_size=1, shuffle=True)\n",
        "    for j in range(70):\n",
        "        aug_image = next(aug_iter)[0].astype('uint8')\n",
        "        x_aug_train.append(aug_image)\n",
        "        y_aug_train.append(v)\n",
        "print(len(x_aug_train))\n",
        "print(len(y_aug_train))\n",
        "\n",
        "x_train = x + x_aug_train\n",
        "y_train = y + y_aug_train\n",
        "print(len(x_train))\n",
        "print(len(y_train))\n",
        "\n",
        "test_data_generator = ImageDataGenerator(rotation_range=360, \n",
        "                                    width_shift_range=0.0, \n",
        "                                    height_shift_range=0.0, \n",
        "#                                     brightness_range=[0.5, 1.5],\n",
        "                                    horizontal_flip=True, \n",
        "                                    vertical_flip=True)\n",
        "\n",
        "x = list(x_test)\n",
        "y = list(y_test)\n",
        "\n",
        "x_aug_test = []\n",
        "y_aug_test = []\n",
        "\n",
        "for (i, v) in enumerate(y):\n",
        "    x_img = x[i]\n",
        "    x_img = np.array(x_img)\n",
        "    x_img = np.expand_dims(x_img, axis=0)\n",
        "    aug_iter = test_data_generator.flow(x_img, batch_size=1, shuffle=True)\n",
        "    for j in range(20):\n",
        "        aug_image = next(aug_iter)[0].astype('uint8')\n",
        "        x_aug_test.append(aug_image)\n",
        "        y_aug_test.append(v)\n",
        "print(len(x_aug_test))\n",
        "print(len(y_aug_test))\n",
        "\n",
        "x_test = x + x_aug_test\n",
        "y_test = y + y_aug_test\n",
        "print(len(x_test))\n",
        "print(len(y_test))"
      ]
    },
    {
      "cell_type": "code",
      "source": [
        "for i in range(len(x_train)):\n",
        "    img = x_train[i]\n",
        "    img = cv2.resize(img, (128, 128))\n",
        "    img = cv2.cvtColor(img, cv2.COLOR_BGR2GRAY)\n",
        "    x_train[i] = img\n",
        "    \n",
        "for i in range(len(x_test)):\n",
        "    img = x_test[i]\n",
        "    img = cv2.resize(img, (128, 128))\n",
        "    img = cv2.cvtColor(img, cv2.COLOR_BGR2GRAY)\n",
        "    x_test[i] = img\n",
        "\n",
        "x_train = np.array(x_train)\n",
        "x_test = np.array(x_test)\n",
        "\n",
        "x_train = x_train/255.0\n",
        "x_test = x_test/255.0\n",
        "\n",
        "label_encoder = LabelEncoder()\n",
        "y_train = label_encoder.fit_transform(y_train)\n",
        "print(y_train.shape)\n",
        "\n",
        "label_encoder = LabelEncoder()\n",
        "y_test = label_encoder.fit_transform(y_test)\n",
        "print(y_test.shape)"
      ],
      "metadata": {
        "colab": {
          "base_uri": "https://localhost:8080/"
        },
        "id": "JwwAkrazpSHp",
        "outputId": "ca69e656-13dd-49dc-9b6e-057ebe6b4835"
      },
      "execution_count": 7,
      "outputs": [
        {
          "output_type": "stream",
          "name": "stdout",
          "text": [
            "(5112,)\n",
            "(630,)\n"
          ]
        }
      ]
    },
    {
      "cell_type": "code",
      "source": [
        "y_train = to_categorical(y_train)\n",
        "y_test = to_categorical(y_test)\n",
        "\n",
        "x_train = np.expand_dims(x_train, axis=-1)\n",
        "x_test = np.expand_dims(x_test, axis=-1)\n",
        "\n",
        "print(x_train.shape)\n",
        "print(y_train.shape)\n",
        "print(x_test.shape)\n",
        "print(y_test.shape)"
      ],
      "metadata": {
        "colab": {
          "base_uri": "https://localhost:8080/"
        },
        "id": "c9WOR-LBpTAs",
        "outputId": "0d6165c0-2435-4b5d-a3cf-ff71158d10f5"
      },
      "execution_count": 8,
      "outputs": [
        {
          "output_type": "stream",
          "name": "stdout",
          "text": [
            "(5112, 128, 128, 1)\n",
            "(5112, 2)\n",
            "(630, 128, 128, 1)\n",
            "(630, 2)\n"
          ]
        }
      ]
    },
    {
      "cell_type": "code",
      "source": [
        "def parkinson_disease_detection_model(input_shape=(128, 128, 1)):\n",
        "    regularizer = tf.keras.regularizers.l2(0.001)\n",
        "    model = Sequential()\n",
        "    model.add(Input(shape=input_shape))\n",
        "    model.add(Conv2D(128, (5, 5), padding='same', strides=(1, 1), name='conv1', activation='relu', \n",
        "                     kernel_initializer='glorot_uniform', kernel_regularizer=regularizer))\n",
        "    model.add(MaxPool2D((9, 9), strides=(3, 3)))\n",
        "\n",
        "    model.add(Conv2D(64, (5, 5), padding='same', strides=(1, 1), name='conv2', activation='relu', \n",
        "                     kernel_initializer='glorot_uniform', kernel_regularizer=regularizer))\n",
        "    model.add(MaxPool2D((7, 7), strides=(3, 3)))\n",
        "    \n",
        "    model.add(Conv2D(32, (3, 3), padding='same', strides=(1, 1), name='conv3', activation='relu', \n",
        "                     kernel_initializer='glorot_uniform', kernel_regularizer=regularizer))\n",
        "    model.add(MaxPool2D((5, 5), strides=(2, 2)))\n",
        "\n",
        "    model.add(Conv2D(32, (3, 3), padding='same', strides=(1, 1), name='conv4', activation='relu', \n",
        "                     kernel_initializer='glorot_uniform', kernel_regularizer=regularizer))\n",
        "    model.add(MaxPool2D((3, 3), strides=(2, 2)))    \n",
        "    \n",
        "    model.add(Flatten())\n",
        "    model.add(Dropout(0.5))\n",
        "    model.add(Dense(64, activation='relu', kernel_initializer='glorot_uniform', name='fc1'))\n",
        "    model.add(Dropout(0.5))\n",
        "    model.add(Dense(2, activation='softmax', kernel_initializer='glorot_uniform', name='fc3'))\n",
        "    \n",
        "    optimizer = Adam(3.15e-5)\n",
        "    model.compile(optimizer=optimizer, loss='categorical_crossentropy', metrics=['accuracy'])\n",
        "    return model"
      ],
      "metadata": {
        "id": "TqUWOutkaTF3"
      },
      "execution_count": 9,
      "outputs": []
    },
    {
      "cell_type": "code",
      "source": [
        "model= parkinson_disease_detection_model(input_shape=(128, 128, 1))\n",
        "model.summary()"
      ],
      "metadata": {
        "colab": {
          "base_uri": "https://localhost:8080/"
        },
        "id": "eRReIDC_pcwO",
        "outputId": "d4953b8e-4707-4350-a6d2-0754b48f5796"
      },
      "execution_count": 10,
      "outputs": [
        {
          "output_type": "stream",
          "name": "stdout",
          "text": [
            "Model: \"sequential\"\n",
            "_________________________________________________________________\n",
            " Layer (type)                Output Shape              Param #   \n",
            "=================================================================\n",
            " conv1 (Conv2D)              (None, 128, 128, 128)     3328      \n",
            "                                                                 \n",
            " max_pooling2d (MaxPooling2D  (None, 40, 40, 128)      0         \n",
            " )                                                               \n",
            "                                                                 \n",
            " conv2 (Conv2D)              (None, 40, 40, 64)        204864    \n",
            "                                                                 \n",
            " max_pooling2d_1 (MaxPooling  (None, 12, 12, 64)       0         \n",
            " 2D)                                                             \n",
            "                                                                 \n",
            " conv3 (Conv2D)              (None, 12, 12, 32)        18464     \n",
            "                                                                 \n",
            " max_pooling2d_2 (MaxPooling  (None, 4, 4, 32)         0         \n",
            " 2D)                                                             \n",
            "                                                                 \n",
            " conv4 (Conv2D)              (None, 4, 4, 32)          9248      \n",
            "                                                                 \n",
            " max_pooling2d_3 (MaxPooling  (None, 1, 1, 32)         0         \n",
            " 2D)                                                             \n",
            "                                                                 \n",
            " flatten (Flatten)           (None, 32)                0         \n",
            "                                                                 \n",
            " dropout (Dropout)           (None, 32)                0         \n",
            "                                                                 \n",
            " fc1 (Dense)                 (None, 64)                2112      \n",
            "                                                                 \n",
            " dropout_1 (Dropout)         (None, 64)                0         \n",
            "                                                                 \n",
            " fc3 (Dense)                 (None, 2)                 130       \n",
            "                                                                 \n",
            "=================================================================\n",
            "Total params: 238,146\n",
            "Trainable params: 238,146\n",
            "Non-trainable params: 0\n",
            "_________________________________________________________________\n"
          ]
        }
      ]
    },
    {
      "cell_type": "code",
      "source": [
        "hist = model.fit(x_train, y_train, batch_size=128, epochs=70, validation_data=(x_test, y_test))"
      ],
      "metadata": {
        "colab": {
          "base_uri": "https://localhost:8080/"
        },
        "id": "PhuYbXe8b4Mm",
        "outputId": "242badb5-d14e-4df3-eac0-d0607dd6c57f"
      },
      "execution_count": 11,
      "outputs": [
        {
          "output_type": "stream",
          "name": "stdout",
          "text": [
            "Epoch 1/70\n",
            "40/40 [==============================] - 19s 187ms/step - loss: 0.8520 - accuracy: 0.5061 - val_loss: 0.8468 - val_accuracy: 0.5841\n",
            "Epoch 2/70\n",
            "40/40 [==============================] - 5s 136ms/step - loss: 0.8443 - accuracy: 0.4969 - val_loss: 0.8402 - val_accuracy: 0.5000\n",
            "Epoch 3/70\n",
            "40/40 [==============================] - 5s 136ms/step - loss: 0.8367 - accuracy: 0.5145 - val_loss: 0.8333 - val_accuracy: 0.5000\n",
            "Epoch 4/70\n",
            "40/40 [==============================] - 5s 136ms/step - loss: 0.8306 - accuracy: 0.5025 - val_loss: 0.8269 - val_accuracy: 0.5095\n",
            "Epoch 5/70\n",
            "40/40 [==============================] - 5s 136ms/step - loss: 0.8245 - accuracy: 0.5100 - val_loss: 0.8210 - val_accuracy: 0.6746\n",
            "Epoch 6/70\n",
            "40/40 [==============================] - 5s 137ms/step - loss: 0.8189 - accuracy: 0.5110 - val_loss: 0.8153 - val_accuracy: 0.5000\n",
            "Epoch 7/70\n",
            "40/40 [==============================] - 5s 137ms/step - loss: 0.8136 - accuracy: 0.5078 - val_loss: 0.8103 - val_accuracy: 0.5190\n",
            "Epoch 8/70\n",
            "40/40 [==============================] - 5s 137ms/step - loss: 0.8088 - accuracy: 0.5100 - val_loss: 0.8051 - val_accuracy: 0.5286\n",
            "Epoch 9/70\n",
            "40/40 [==============================] - 5s 137ms/step - loss: 0.8037 - accuracy: 0.5184 - val_loss: 0.8002 - val_accuracy: 0.6460\n",
            "Epoch 10/70\n",
            "40/40 [==============================] - 5s 138ms/step - loss: 0.7998 - accuracy: 0.5158 - val_loss: 0.7966 - val_accuracy: 0.5286\n",
            "Epoch 11/70\n",
            "40/40 [==============================] - 6s 138ms/step - loss: 0.7952 - accuracy: 0.5237 - val_loss: 0.7916 - val_accuracy: 0.6270\n",
            "Epoch 12/70\n",
            "40/40 [==============================] - 6s 138ms/step - loss: 0.7914 - accuracy: 0.5286 - val_loss: 0.7877 - val_accuracy: 0.6635\n",
            "Epoch 13/70\n",
            "40/40 [==============================] - 6s 138ms/step - loss: 0.7874 - accuracy: 0.5368 - val_loss: 0.7834 - val_accuracy: 0.5190\n",
            "Epoch 14/70\n",
            "40/40 [==============================] - 6s 139ms/step - loss: 0.7834 - accuracy: 0.5411 - val_loss: 0.7797 - val_accuracy: 0.6254\n",
            "Epoch 15/70\n",
            "40/40 [==============================] - 6s 139ms/step - loss: 0.7799 - accuracy: 0.5485 - val_loss: 0.7754 - val_accuracy: 0.5000\n",
            "Epoch 16/70\n",
            "40/40 [==============================] - 6s 139ms/step - loss: 0.7761 - accuracy: 0.5342 - val_loss: 0.7709 - val_accuracy: 0.7603\n",
            "Epoch 17/70\n",
            "40/40 [==============================] - 6s 140ms/step - loss: 0.7727 - accuracy: 0.5628 - val_loss: 0.7673 - val_accuracy: 0.6762\n",
            "Epoch 18/70\n",
            "40/40 [==============================] - 6s 140ms/step - loss: 0.7679 - accuracy: 0.5739 - val_loss: 0.7610 - val_accuracy: 0.7556\n",
            "Epoch 19/70\n",
            "40/40 [==============================] - 6s 140ms/step - loss: 0.7639 - accuracy: 0.5718 - val_loss: 0.7558 - val_accuracy: 0.6857\n",
            "Epoch 20/70\n",
            "40/40 [==============================] - 6s 141ms/step - loss: 0.7595 - accuracy: 0.5814 - val_loss: 0.7505 - val_accuracy: 0.7762\n",
            "Epoch 21/70\n",
            "40/40 [==============================] - 6s 141ms/step - loss: 0.7549 - accuracy: 0.5900 - val_loss: 0.7434 - val_accuracy: 0.8000\n",
            "Epoch 22/70\n",
            "40/40 [==============================] - 6s 142ms/step - loss: 0.7471 - accuracy: 0.6109 - val_loss: 0.7352 - val_accuracy: 0.7825\n",
            "Epoch 23/70\n",
            "40/40 [==============================] - 6s 142ms/step - loss: 0.7384 - accuracy: 0.6238 - val_loss: 0.7263 - val_accuracy: 0.7492\n",
            "Epoch 24/70\n",
            "40/40 [==============================] - 6s 142ms/step - loss: 0.7308 - accuracy: 0.6365 - val_loss: 0.7259 - val_accuracy: 0.6460\n",
            "Epoch 25/70\n",
            "40/40 [==============================] - 6s 142ms/step - loss: 0.7246 - accuracy: 0.6506 - val_loss: 0.7057 - val_accuracy: 0.7841\n",
            "Epoch 26/70\n",
            "40/40 [==============================] - 6s 143ms/step - loss: 0.7118 - accuracy: 0.6669 - val_loss: 0.7097 - val_accuracy: 0.6825\n",
            "Epoch 27/70\n",
            "40/40 [==============================] - 6s 143ms/step - loss: 0.7009 - accuracy: 0.6637 - val_loss: 0.6857 - val_accuracy: 0.7683\n",
            "Epoch 28/70\n",
            "40/40 [==============================] - 6s 143ms/step - loss: 0.6924 - accuracy: 0.6833 - val_loss: 0.6814 - val_accuracy: 0.7095\n",
            "Epoch 29/70\n",
            "40/40 [==============================] - 6s 143ms/step - loss: 0.6861 - accuracy: 0.6849 - val_loss: 0.6679 - val_accuracy: 0.7540\n",
            "Epoch 30/70\n",
            "40/40 [==============================] - 6s 144ms/step - loss: 0.6688 - accuracy: 0.7101 - val_loss: 0.6961 - val_accuracy: 0.6492\n",
            "Epoch 31/70\n",
            "40/40 [==============================] - 6s 144ms/step - loss: 0.6568 - accuracy: 0.7232 - val_loss: 0.6462 - val_accuracy: 0.7556\n",
            "Epoch 32/70\n",
            "40/40 [==============================] - 6s 144ms/step - loss: 0.6435 - accuracy: 0.7289 - val_loss: 0.6533 - val_accuracy: 0.6810\n",
            "Epoch 33/70\n",
            "40/40 [==============================] - 6s 144ms/step - loss: 0.6347 - accuracy: 0.7322 - val_loss: 0.6247 - val_accuracy: 0.7683\n",
            "Epoch 34/70\n",
            "40/40 [==============================] - 6s 145ms/step - loss: 0.6234 - accuracy: 0.7496 - val_loss: 0.6161 - val_accuracy: 0.7683\n",
            "Epoch 35/70\n",
            "40/40 [==============================] - 6s 145ms/step - loss: 0.6170 - accuracy: 0.7439 - val_loss: 0.6183 - val_accuracy: 0.7302\n",
            "Epoch 36/70\n",
            "40/40 [==============================] - 6s 146ms/step - loss: 0.6028 - accuracy: 0.7535 - val_loss: 0.5944 - val_accuracy: 0.7810\n",
            "Epoch 37/70\n",
            "40/40 [==============================] - 6s 146ms/step - loss: 0.5969 - accuracy: 0.7666 - val_loss: 0.5884 - val_accuracy: 0.7746\n",
            "Epoch 38/70\n",
            "40/40 [==============================] - 6s 146ms/step - loss: 0.5872 - accuracy: 0.7799 - val_loss: 0.5862 - val_accuracy: 0.7603\n",
            "Epoch 39/70\n",
            "40/40 [==============================] - 6s 146ms/step - loss: 0.5806 - accuracy: 0.7707 - val_loss: 0.5779 - val_accuracy: 0.7571\n",
            "Epoch 40/70\n",
            "40/40 [==============================] - 6s 145ms/step - loss: 0.5703 - accuracy: 0.7850 - val_loss: 0.5636 - val_accuracy: 0.8032\n",
            "Epoch 41/70\n",
            "40/40 [==============================] - 6s 145ms/step - loss: 0.5653 - accuracy: 0.7854 - val_loss: 0.5707 - val_accuracy: 0.7444\n",
            "Epoch 42/70\n",
            "40/40 [==============================] - 6s 145ms/step - loss: 0.5525 - accuracy: 0.7911 - val_loss: 0.5532 - val_accuracy: 0.7683\n",
            "Epoch 43/70\n",
            "40/40 [==============================] - 6s 145ms/step - loss: 0.5485 - accuracy: 0.7948 - val_loss: 0.5408 - val_accuracy: 0.7889\n",
            "Epoch 44/70\n",
            "40/40 [==============================] - 6s 145ms/step - loss: 0.5386 - accuracy: 0.7987 - val_loss: 0.5315 - val_accuracy: 0.8127\n",
            "Epoch 45/70\n",
            "40/40 [==============================] - 6s 144ms/step - loss: 0.5300 - accuracy: 0.8048 - val_loss: 0.5526 - val_accuracy: 0.7286\n",
            "Epoch 46/70\n",
            "40/40 [==============================] - 6s 144ms/step - loss: 0.5234 - accuracy: 0.8042 - val_loss: 0.5246 - val_accuracy: 0.7810\n",
            "Epoch 47/70\n",
            "40/40 [==============================] - 6s 144ms/step - loss: 0.5177 - accuracy: 0.8069 - val_loss: 0.5092 - val_accuracy: 0.8127\n",
            "Epoch 48/70\n",
            "40/40 [==============================] - 6s 144ms/step - loss: 0.5148 - accuracy: 0.8087 - val_loss: 0.5001 - val_accuracy: 0.8222\n",
            "Epoch 49/70\n",
            "40/40 [==============================] - 6s 144ms/step - loss: 0.5161 - accuracy: 0.8061 - val_loss: 0.4979 - val_accuracy: 0.8175\n",
            "Epoch 50/70\n",
            "40/40 [==============================] - 6s 144ms/step - loss: 0.4974 - accuracy: 0.8245 - val_loss: 0.5114 - val_accuracy: 0.8175\n",
            "Epoch 51/70\n",
            "40/40 [==============================] - 6s 145ms/step - loss: 0.4927 - accuracy: 0.8200 - val_loss: 0.5073 - val_accuracy: 0.8175\n",
            "Epoch 52/70\n",
            "40/40 [==============================] - 6s 145ms/step - loss: 0.4907 - accuracy: 0.8206 - val_loss: 0.4847 - val_accuracy: 0.8270\n",
            "Epoch 53/70\n",
            "40/40 [==============================] - 6s 145ms/step - loss: 0.4790 - accuracy: 0.8277 - val_loss: 0.4739 - val_accuracy: 0.8270\n",
            "Epoch 54/70\n",
            "40/40 [==============================] - 6s 145ms/step - loss: 0.4788 - accuracy: 0.8269 - val_loss: 0.4822 - val_accuracy: 0.8254\n",
            "Epoch 55/70\n",
            "40/40 [==============================] - 6s 145ms/step - loss: 0.4703 - accuracy: 0.8351 - val_loss: 0.4758 - val_accuracy: 0.8238\n",
            "Epoch 56/70\n",
            "40/40 [==============================] - 6s 144ms/step - loss: 0.4756 - accuracy: 0.8322 - val_loss: 0.4726 - val_accuracy: 0.8270\n",
            "Epoch 57/70\n",
            "40/40 [==============================] - 6s 144ms/step - loss: 0.4536 - accuracy: 0.8433 - val_loss: 0.4702 - val_accuracy: 0.8127\n",
            "Epoch 58/70\n",
            "40/40 [==============================] - 6s 145ms/step - loss: 0.4536 - accuracy: 0.8425 - val_loss: 0.4582 - val_accuracy: 0.8317\n",
            "Epoch 59/70\n",
            "40/40 [==============================] - 6s 145ms/step - loss: 0.4392 - accuracy: 0.8502 - val_loss: 0.4809 - val_accuracy: 0.8317\n",
            "Epoch 60/70\n",
            "40/40 [==============================] - 6s 145ms/step - loss: 0.4393 - accuracy: 0.8457 - val_loss: 0.4562 - val_accuracy: 0.8302\n",
            "Epoch 61/70\n",
            "40/40 [==============================] - 6s 145ms/step - loss: 0.4399 - accuracy: 0.8476 - val_loss: 0.4604 - val_accuracy: 0.8238\n",
            "Epoch 62/70\n",
            "40/40 [==============================] - 6s 144ms/step - loss: 0.4308 - accuracy: 0.8525 - val_loss: 0.5049 - val_accuracy: 0.8143\n",
            "Epoch 63/70\n",
            "40/40 [==============================] - 6s 145ms/step - loss: 0.4465 - accuracy: 0.8410 - val_loss: 0.4774 - val_accuracy: 0.8032\n",
            "Epoch 64/70\n",
            "40/40 [==============================] - 6s 145ms/step - loss: 0.4289 - accuracy: 0.8574 - val_loss: 0.4456 - val_accuracy: 0.8397\n",
            "Epoch 65/70\n",
            "40/40 [==============================] - 6s 145ms/step - loss: 0.4111 - accuracy: 0.8713 - val_loss: 0.5071 - val_accuracy: 0.8079\n",
            "Epoch 66/70\n",
            "40/40 [==============================] - 6s 145ms/step - loss: 0.4011 - accuracy: 0.8683 - val_loss: 0.4390 - val_accuracy: 0.8381\n",
            "Epoch 67/70\n",
            "40/40 [==============================] - 6s 144ms/step - loss: 0.4036 - accuracy: 0.8670 - val_loss: 0.4459 - val_accuracy: 0.8270\n",
            "Epoch 68/70\n",
            "40/40 [==============================] - 6s 145ms/step - loss: 0.3946 - accuracy: 0.8727 - val_loss: 0.4604 - val_accuracy: 0.8349\n",
            "Epoch 69/70\n",
            "40/40 [==============================] - 6s 145ms/step - loss: 0.3906 - accuracy: 0.8719 - val_loss: 0.4820 - val_accuracy: 0.8206\n",
            "Epoch 70/70\n",
            "40/40 [==============================] - 6s 145ms/step - loss: 0.3830 - accuracy: 0.8764 - val_loss: 0.4487 - val_accuracy: 0.8397\n"
          ]
        }
      ]
    },
    {
      "cell_type": "code",
      "source": [
        "ypred = model.predict(x_test)\n",
        "ypred = np.argmax(ypred, axis=1)\n",
        "y_test_pred = np.argmax(y_test, axis=1)\n",
        "print(classification_report(y_test_pred, ypred))"
      ],
      "metadata": {
        "colab": {
          "base_uri": "https://localhost:8080/"
        },
        "id": "8f8yWs2ltOnq",
        "outputId": "28060e79-4788-4ebf-c897-79e051ecc153"
      },
      "execution_count": 12,
      "outputs": [
        {
          "output_type": "stream",
          "name": "stdout",
          "text": [
            "              precision    recall  f1-score   support\n",
            "\n",
            "           0       0.91      0.75      0.82       315\n",
            "           1       0.79      0.93      0.85       315\n",
            "\n",
            "    accuracy                           0.84       630\n",
            "   macro avg       0.85      0.84      0.84       630\n",
            "weighted avg       0.85      0.84      0.84       630\n",
            "\n"
          ]
        }
      ]
    },
    {
      "cell_type": "code",
      "source": [
        "model.save('thing.h5')"
      ],
      "metadata": {
        "id": "4rOp_Dq_tTRG"
      },
      "execution_count": 19,
      "outputs": []
    },
    {
      "cell_type": "code",
      "source": [
        "labels = ['Healthy', 'Parkinson']\n",
        "image_healthy = cv2.imread('Parkinson_disease_detection/test_image_healthy.png')\n",
        "image_parkinson = cv2.imread('Parkinson_disease_detection/test_image_parkinson.png')\n",
        "\n",
        "image_healthy = cv2.resize(image_healthy, (128, 128))\n",
        "image_healthy = cv2.cvtColor(image_healthy, cv2.COLOR_BGR2GRAY)\n",
        "image_healthy = np.array(image_healthy)\n",
        "image_healthy = np.expand_dims(image_healthy, axis=0)\n",
        "image_healthy = np.expand_dims(image_healthy, axis=-1)\n",
        "\n",
        "image_parkinson = cv2.resize(image_parkinson, (128, 128))\n",
        "image_parkinson = cv2.cvtColor(image_parkinson, cv2.COLOR_BGR2GRAY)\n",
        "image_parkinson = np.array(image_parkinson)\n",
        "image_parkinson = np.expand_dims(image_parkinson, axis=0)\n",
        "image_parkinson = np.expand_dims(image_parkinson, axis=-1)\n",
        "\n",
        "ypred_healthy = model.predict(image_healthy)\n",
        "ypred_parkinson = model.predict(image_parkinson)"
      ],
      "metadata": {
        "id": "PzMpqoALb5KJ"
      },
      "execution_count": 17,
      "outputs": []
    },
    {
      "cell_type": "code",
      "source": [
        "figure = plt.figure(figsize=(2, 2))\n",
        "img_healthy = np.squeeze(image_healthy, axis=0)\n",
        "plt.imshow(img_healthy)\n",
        "plt.axis('off')\n",
        "plt.title(f'Prediction by the model: {labels[np.argmax(ypred_healthy[0], axis=0)]}')\n",
        "plt.show()"
      ],
      "metadata": {
        "colab": {
          "base_uri": "https://localhost:8080/",
          "height": 533
        },
        "id": "kJUwKGdLcI4q",
        "outputId": "23085157-454d-46a7-a439-fadd7f0a05de"
      },
      "execution_count": 15,
      "outputs": [
        {
          "output_type": "error",
          "ename": "TypeError",
          "evalue": "ignored",
          "traceback": [
            "\u001b[0;31m---------------------------------------------------------------------------\u001b[0m",
            "\u001b[0;31mTypeError\u001b[0m                                 Traceback (most recent call last)",
            "\u001b[0;32m<ipython-input-15-460c4fb0052c>\u001b[0m in \u001b[0;36m<module>\u001b[0;34m()\u001b[0m\n\u001b[1;32m      1\u001b[0m \u001b[0mfigure\u001b[0m \u001b[0;34m=\u001b[0m \u001b[0mplt\u001b[0m\u001b[0;34m.\u001b[0m\u001b[0mfigure\u001b[0m\u001b[0;34m(\u001b[0m\u001b[0mfigsize\u001b[0m\u001b[0;34m=\u001b[0m\u001b[0;34m(\u001b[0m\u001b[0;36m2\u001b[0m\u001b[0;34m,\u001b[0m \u001b[0;36m2\u001b[0m\u001b[0;34m)\u001b[0m\u001b[0;34m)\u001b[0m\u001b[0;34m\u001b[0m\u001b[0;34m\u001b[0m\u001b[0m\n\u001b[1;32m      2\u001b[0m \u001b[0mimg_healthy\u001b[0m \u001b[0;34m=\u001b[0m \u001b[0mnp\u001b[0m\u001b[0;34m.\u001b[0m\u001b[0msqueeze\u001b[0m\u001b[0;34m(\u001b[0m\u001b[0mimage_healthy\u001b[0m\u001b[0;34m,\u001b[0m \u001b[0maxis\u001b[0m\u001b[0;34m=\u001b[0m\u001b[0;36m0\u001b[0m\u001b[0;34m)\u001b[0m\u001b[0;34m\u001b[0m\u001b[0;34m\u001b[0m\u001b[0m\n\u001b[0;32m----> 3\u001b[0;31m \u001b[0mplt\u001b[0m\u001b[0;34m.\u001b[0m\u001b[0mimshow\u001b[0m\u001b[0;34m(\u001b[0m\u001b[0mimg_healthy\u001b[0m\u001b[0;34m)\u001b[0m\u001b[0;34m\u001b[0m\u001b[0;34m\u001b[0m\u001b[0m\n\u001b[0m\u001b[1;32m      4\u001b[0m \u001b[0mplt\u001b[0m\u001b[0;34m.\u001b[0m\u001b[0maxis\u001b[0m\u001b[0;34m(\u001b[0m\u001b[0;34m'off'\u001b[0m\u001b[0;34m)\u001b[0m\u001b[0;34m\u001b[0m\u001b[0;34m\u001b[0m\u001b[0m\n\u001b[1;32m      5\u001b[0m \u001b[0mplt\u001b[0m\u001b[0;34m.\u001b[0m\u001b[0mtitle\u001b[0m\u001b[0;34m(\u001b[0m\u001b[0;34mf'Prediction by the model: {labels[np.argmax(ypred_healthy[0], axis=0)]}'\u001b[0m\u001b[0;34m)\u001b[0m\u001b[0;34m\u001b[0m\u001b[0;34m\u001b[0m\u001b[0m\n",
            "\u001b[0;32m/usr/local/lib/python3.7/dist-packages/matplotlib/pyplot.py\u001b[0m in \u001b[0;36mimshow\u001b[0;34m(X, cmap, norm, aspect, interpolation, alpha, vmin, vmax, origin, extent, shape, filternorm, filterrad, imlim, resample, url, data, **kwargs)\u001b[0m\n\u001b[1;32m   2649\u001b[0m         \u001b[0mfilternorm\u001b[0m\u001b[0;34m=\u001b[0m\u001b[0mfilternorm\u001b[0m\u001b[0;34m,\u001b[0m \u001b[0mfilterrad\u001b[0m\u001b[0;34m=\u001b[0m\u001b[0mfilterrad\u001b[0m\u001b[0;34m,\u001b[0m \u001b[0mimlim\u001b[0m\u001b[0;34m=\u001b[0m\u001b[0mimlim\u001b[0m\u001b[0;34m,\u001b[0m\u001b[0;34m\u001b[0m\u001b[0;34m\u001b[0m\u001b[0m\n\u001b[1;32m   2650\u001b[0m         resample=resample, url=url, **({\"data\": data} if data is not\n\u001b[0;32m-> 2651\u001b[0;31m         None else {}), **kwargs)\n\u001b[0m\u001b[1;32m   2652\u001b[0m     \u001b[0msci\u001b[0m\u001b[0;34m(\u001b[0m\u001b[0m__ret\u001b[0m\u001b[0;34m)\u001b[0m\u001b[0;34m\u001b[0m\u001b[0;34m\u001b[0m\u001b[0m\n\u001b[1;32m   2653\u001b[0m     \u001b[0;32mreturn\u001b[0m \u001b[0m__ret\u001b[0m\u001b[0;34m\u001b[0m\u001b[0;34m\u001b[0m\u001b[0m\n",
            "\u001b[0;32m/usr/local/lib/python3.7/dist-packages/matplotlib/__init__.py\u001b[0m in \u001b[0;36minner\u001b[0;34m(ax, data, *args, **kwargs)\u001b[0m\n\u001b[1;32m   1563\u001b[0m     \u001b[0;32mdef\u001b[0m \u001b[0minner\u001b[0m\u001b[0;34m(\u001b[0m\u001b[0max\u001b[0m\u001b[0;34m,\u001b[0m \u001b[0;34m*\u001b[0m\u001b[0margs\u001b[0m\u001b[0;34m,\u001b[0m \u001b[0mdata\u001b[0m\u001b[0;34m=\u001b[0m\u001b[0;32mNone\u001b[0m\u001b[0;34m,\u001b[0m \u001b[0;34m**\u001b[0m\u001b[0mkwargs\u001b[0m\u001b[0;34m)\u001b[0m\u001b[0;34m:\u001b[0m\u001b[0;34m\u001b[0m\u001b[0;34m\u001b[0m\u001b[0m\n\u001b[1;32m   1564\u001b[0m         \u001b[0;32mif\u001b[0m \u001b[0mdata\u001b[0m \u001b[0;32mis\u001b[0m \u001b[0;32mNone\u001b[0m\u001b[0;34m:\u001b[0m\u001b[0;34m\u001b[0m\u001b[0;34m\u001b[0m\u001b[0m\n\u001b[0;32m-> 1565\u001b[0;31m             \u001b[0;32mreturn\u001b[0m \u001b[0mfunc\u001b[0m\u001b[0;34m(\u001b[0m\u001b[0max\u001b[0m\u001b[0;34m,\u001b[0m \u001b[0;34m*\u001b[0m\u001b[0mmap\u001b[0m\u001b[0;34m(\u001b[0m\u001b[0msanitize_sequence\u001b[0m\u001b[0;34m,\u001b[0m \u001b[0margs\u001b[0m\u001b[0;34m)\u001b[0m\u001b[0;34m,\u001b[0m \u001b[0;34m**\u001b[0m\u001b[0mkwargs\u001b[0m\u001b[0;34m)\u001b[0m\u001b[0;34m\u001b[0m\u001b[0;34m\u001b[0m\u001b[0m\n\u001b[0m\u001b[1;32m   1566\u001b[0m \u001b[0;34m\u001b[0m\u001b[0m\n\u001b[1;32m   1567\u001b[0m         \u001b[0mbound\u001b[0m \u001b[0;34m=\u001b[0m \u001b[0mnew_sig\u001b[0m\u001b[0;34m.\u001b[0m\u001b[0mbind\u001b[0m\u001b[0;34m(\u001b[0m\u001b[0max\u001b[0m\u001b[0;34m,\u001b[0m \u001b[0;34m*\u001b[0m\u001b[0margs\u001b[0m\u001b[0;34m,\u001b[0m \u001b[0;34m**\u001b[0m\u001b[0mkwargs\u001b[0m\u001b[0;34m)\u001b[0m\u001b[0;34m\u001b[0m\u001b[0;34m\u001b[0m\u001b[0m\n",
            "\u001b[0;32m/usr/local/lib/python3.7/dist-packages/matplotlib/cbook/deprecation.py\u001b[0m in \u001b[0;36mwrapper\u001b[0;34m(*args, **kwargs)\u001b[0m\n\u001b[1;32m    356\u001b[0m                 \u001b[0;34mf\"%(removal)s.  If any parameter follows {name!r}, they \"\u001b[0m\u001b[0;34m\u001b[0m\u001b[0;34m\u001b[0m\u001b[0m\n\u001b[1;32m    357\u001b[0m                 f\"should be pass as keyword, not positionally.\")\n\u001b[0;32m--> 358\u001b[0;31m         \u001b[0;32mreturn\u001b[0m \u001b[0mfunc\u001b[0m\u001b[0;34m(\u001b[0m\u001b[0;34m*\u001b[0m\u001b[0margs\u001b[0m\u001b[0;34m,\u001b[0m \u001b[0;34m**\u001b[0m\u001b[0mkwargs\u001b[0m\u001b[0;34m)\u001b[0m\u001b[0;34m\u001b[0m\u001b[0;34m\u001b[0m\u001b[0m\n\u001b[0m\u001b[1;32m    359\u001b[0m \u001b[0;34m\u001b[0m\u001b[0m\n\u001b[1;32m    360\u001b[0m     \u001b[0;32mreturn\u001b[0m \u001b[0mwrapper\u001b[0m\u001b[0;34m\u001b[0m\u001b[0;34m\u001b[0m\u001b[0m\n",
            "\u001b[0;32m/usr/local/lib/python3.7/dist-packages/matplotlib/cbook/deprecation.py\u001b[0m in \u001b[0;36mwrapper\u001b[0;34m(*args, **kwargs)\u001b[0m\n\u001b[1;32m    356\u001b[0m                 \u001b[0;34mf\"%(removal)s.  If any parameter follows {name!r}, they \"\u001b[0m\u001b[0;34m\u001b[0m\u001b[0;34m\u001b[0m\u001b[0m\n\u001b[1;32m    357\u001b[0m                 f\"should be pass as keyword, not positionally.\")\n\u001b[0;32m--> 358\u001b[0;31m         \u001b[0;32mreturn\u001b[0m \u001b[0mfunc\u001b[0m\u001b[0;34m(\u001b[0m\u001b[0;34m*\u001b[0m\u001b[0margs\u001b[0m\u001b[0;34m,\u001b[0m \u001b[0;34m**\u001b[0m\u001b[0mkwargs\u001b[0m\u001b[0;34m)\u001b[0m\u001b[0;34m\u001b[0m\u001b[0;34m\u001b[0m\u001b[0m\n\u001b[0m\u001b[1;32m    359\u001b[0m \u001b[0;34m\u001b[0m\u001b[0m\n\u001b[1;32m    360\u001b[0m     \u001b[0;32mreturn\u001b[0m \u001b[0mwrapper\u001b[0m\u001b[0;34m\u001b[0m\u001b[0;34m\u001b[0m\u001b[0m\n",
            "\u001b[0;32m/usr/local/lib/python3.7/dist-packages/matplotlib/axes/_axes.py\u001b[0m in \u001b[0;36mimshow\u001b[0;34m(self, X, cmap, norm, aspect, interpolation, alpha, vmin, vmax, origin, extent, shape, filternorm, filterrad, imlim, resample, url, **kwargs)\u001b[0m\n\u001b[1;32m   5624\u001b[0m                               resample=resample, **kwargs)\n\u001b[1;32m   5625\u001b[0m \u001b[0;34m\u001b[0m\u001b[0m\n\u001b[0;32m-> 5626\u001b[0;31m         \u001b[0mim\u001b[0m\u001b[0;34m.\u001b[0m\u001b[0mset_data\u001b[0m\u001b[0;34m(\u001b[0m\u001b[0mX\u001b[0m\u001b[0;34m)\u001b[0m\u001b[0;34m\u001b[0m\u001b[0;34m\u001b[0m\u001b[0m\n\u001b[0m\u001b[1;32m   5627\u001b[0m         \u001b[0mim\u001b[0m\u001b[0;34m.\u001b[0m\u001b[0mset_alpha\u001b[0m\u001b[0;34m(\u001b[0m\u001b[0malpha\u001b[0m\u001b[0;34m)\u001b[0m\u001b[0;34m\u001b[0m\u001b[0;34m\u001b[0m\u001b[0m\n\u001b[1;32m   5628\u001b[0m         \u001b[0;32mif\u001b[0m \u001b[0mim\u001b[0m\u001b[0;34m.\u001b[0m\u001b[0mget_clip_path\u001b[0m\u001b[0;34m(\u001b[0m\u001b[0;34m)\u001b[0m \u001b[0;32mis\u001b[0m \u001b[0;32mNone\u001b[0m\u001b[0;34m:\u001b[0m\u001b[0;34m\u001b[0m\u001b[0;34m\u001b[0m\u001b[0m\n",
            "\u001b[0;32m/usr/local/lib/python3.7/dist-packages/matplotlib/image.py\u001b[0m in \u001b[0;36mset_data\u001b[0;34m(self, A)\u001b[0m\n\u001b[1;32m    697\u001b[0m                 or self._A.ndim == 3 and self._A.shape[-1] in [3, 4]):\n\u001b[1;32m    698\u001b[0m             raise TypeError(\"Invalid shape {} for image data\"\n\u001b[0;32m--> 699\u001b[0;31m                             .format(self._A.shape))\n\u001b[0m\u001b[1;32m    700\u001b[0m \u001b[0;34m\u001b[0m\u001b[0m\n\u001b[1;32m    701\u001b[0m         \u001b[0;32mif\u001b[0m \u001b[0mself\u001b[0m\u001b[0;34m.\u001b[0m\u001b[0m_A\u001b[0m\u001b[0;34m.\u001b[0m\u001b[0mndim\u001b[0m \u001b[0;34m==\u001b[0m \u001b[0;36m3\u001b[0m\u001b[0;34m:\u001b[0m\u001b[0;34m\u001b[0m\u001b[0;34m\u001b[0m\u001b[0m\n",
            "\u001b[0;31mTypeError\u001b[0m: Invalid shape (128, 128, 1) for image data"
          ]
        },
        {
          "output_type": "display_data",
          "data": {
            "text/plain": [
              "<Figure size 144x144 with 1 Axes>"
            ],
            "image/png": "[encoded data removed]"
          },
          "metadata": {
            "needs_background": "light"
          }
        }
      ]
    }
  ]
}